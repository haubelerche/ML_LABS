{
 "cells": [
  {
   "metadata": {
    "collapsed": true,
    "ExecuteTime": {
     "end_time": "2025-02-19T02:03:50.492381Z",
     "start_time": "2025-02-19T02:03:50.144177Z"
    }
   },
   "cell_type": "code",
   "source": [
    "import tensorflow as tf\n",
    "import numpy as np\n",
    "import matplotlib.pyplot as plt\n",
    "fmnist = tf.keras.datasets.fashion_mnist\n",
    "\n",
    "(training_images, training_labels), (test_images, test_labels) = fmnist.load_data()\n",
    "\n",
    "training_images = training_images / 255.0\n",
    "test_images = test_images / 255.0\n"
   ],
   "id": "initial_id",
   "outputs": [],
   "execution_count": 19
  },
  {
   "metadata": {
    "ExecuteTime": {
     "end_time": "2025-02-19T02:08:19.553365Z",
     "start_time": "2025-02-19T02:08:19.543304Z"
    }
   },
   "cell_type": "code",
   "source": [
    "class EarlyStoppingCallback(tf.keras.callbacks.Callback):\n",
    "\n",
    "    # Define the correct function signature for on_epoch_end method\n",
    "    def on_epoch_end(self, epoch, logs=None):\n",
    "        # Check if the accuracy is greater or equal to 0.98\n",
    "        if (logs.get('accuracy',0)) >= 0.9:\n",
    "            # Stop training once the above condition is met\n",
    "            self.model.stop_training = True\n",
    "            print(\"\\nReached 90% accuracy so cancelling training!\")"
   ],
   "id": "8b04552277a41329",
   "outputs": [],
   "execution_count": 37
  },
  {
   "metadata": {
    "ExecuteTime": {
     "end_time": "2025-02-19T02:08:21.513144Z",
     "start_time": "2025-02-19T02:08:21.477079Z"
    }
   },
   "cell_type": "code",
   "source": [
    "model = tf.keras.models.Sequential([\n",
    "    tf.keras.Input(shape=(28,28)),\n",
    "    tf.keras.layers.Flatten(),\n",
    "    tf.keras.layers.Dense(512, activation=tf.nn.relu),\n",
    "    tf.keras.layers.Dense(10, activation=tf.nn.softmax)\n",
    "])"
   ],
   "id": "ba5f85d91a40ce",
   "outputs": [],
   "execution_count": 38
  },
  {
   "metadata": {
    "ExecuteTime": {
     "end_time": "2025-02-19T02:09:16.913085Z",
     "start_time": "2025-02-19T02:08:23.505300Z"
    }
   },
   "cell_type": "code",
   "source": [
    "\n",
    "model.compile(optimizer='adam', loss='sparse_categorical_crossentropy', metrics=['accuracy'])\n",
    "model.fit(training_images, training_labels, epochs=10, callbacks=[EarlyStoppingCallback()])\n",
    "\n",
    "print(\"\\nEvaluating on test set:\\n\")\n",
    "model.evaluate(test_images, test_labels)\n",
    "\n"
   ],
   "id": "631f73c59bc6e124",
   "outputs": [
    {
     "name": "stdout",
     "output_type": "stream",
     "text": [
      "Epoch 1/10\n",
      "1875/1875 [==============================] - 6s 3ms/step - loss: 0.4726 - accuracy: 0.8323\n",
      "Epoch 2/10\n",
      "1875/1875 [==============================] - 7s 4ms/step - loss: 0.3589 - accuracy: 0.8673\n",
      "Epoch 3/10\n",
      "1875/1875 [==============================] - 8s 4ms/step - loss: 0.3204 - accuracy: 0.8824\n",
      "Epoch 4/10\n",
      "1875/1875 [==============================] - 8s 4ms/step - loss: 0.2965 - accuracy: 0.8904\n",
      "Epoch 5/10\n",
      "1875/1875 [==============================] - 8s 4ms/step - loss: 0.2794 - accuracy: 0.8954\n",
      "Epoch 6/10\n",
      "1875/1875 [==============================] - 7s 4ms/step - loss: 0.2652 - accuracy: 0.8999\n",
      "Epoch 7/10\n",
      "1859/1875 [============================>.] - ETA: 0s - loss: 0.2518 - accuracy: 0.9074\n",
      "Reached 90% accuracy so cancelling training!\n",
      "1875/1875 [==============================] - 7s 4ms/step - loss: 0.2522 - accuracy: 0.9073\n",
      "\n",
      "Evaluating on test set:\n",
      "\n",
      "313/313 [==============================] - 1s 2ms/step - loss: 0.3425 - accuracy: 0.8782\n"
     ]
    },
    {
     "data": {
      "text/plain": [
       "[0.3425317108631134, 0.8782000541687012]"
      ]
     },
     "execution_count": 39,
     "metadata": {},
     "output_type": "execute_result"
    }
   ],
   "execution_count": 39
  },
  {
   "metadata": {
    "ExecuteTime": {
     "end_time": "2025-02-19T02:46:53.511915Z",
     "start_time": "2025-02-19T02:46:51.649061Z"
    }
   },
   "cell_type": "code",
   "source": [
    "print(\"\\nPredicting using test set:\\n\")\n",
    "predictions = model.predict(test_images)\n",
    "\n",
    "print(f\"\\nTrue class for first image on test set: {test_labels[0]}\\nProbability of each class:\\n{predictions[0]}\")\n",
    "#in ra 1 hàng chứa 10 items trong 1 list cùng với xác suất có thể là cái items đó.\n",
    "#vd nếu chạy ct này thì cái cuối có 98 % thực sự là cái items 9 : Giày cao cổ."
   ],
   "id": "1035fe52557d9950",
   "outputs": [
    {
     "name": "stdout",
     "output_type": "stream",
     "text": [
      "\n",
      "Predicting using test set:\n",
      "\n",
      "313/313 [==============================] - 0s 1ms/step\n",
      "\n",
      "True class for first image on test set: 9\n",
      "Probability of each class:\n",
      "[6.6494374e-09 1.9831696e-09 6.6274791e-10 3.6245004e-10 1.7907980e-09\n",
      " 1.2960369e-04 6.8555890e-09 9.0657081e-03 5.8166544e-10 9.9080467e-01]\n"
     ]
    }
   ],
   "execution_count": 40
  },
  {
   "metadata": {},
   "cell_type": "code",
   "outputs": [],
   "execution_count": null,
   "source": "",
   "id": "47af0a5c919406bd"
  },
  {
   "metadata": {},
   "cell_type": "code",
   "outputs": [],
   "execution_count": null,
   "source": "",
   "id": "740ec1c49243964d"
  },
  {
   "metadata": {},
   "cell_type": "code",
   "outputs": [],
   "execution_count": null,
   "source": "",
   "id": "d2cb37632d2da06b"
  }
 ],
 "metadata": {
  "kernelspec": {
   "display_name": "Python 3",
   "language": "python",
   "name": "python3"
  },
  "language_info": {
   "codemirror_mode": {
    "name": "ipython",
    "version": 2
   },
   "file_extension": ".py",
   "mimetype": "text/x-python",
   "name": "python",
   "nbconvert_exporter": "python",
   "pygments_lexer": "ipython2",
   "version": "2.7.6"
  }
 },
 "nbformat": 4,
 "nbformat_minor": 5
}
